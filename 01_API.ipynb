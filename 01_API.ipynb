{
 "cells": [
  {
   "cell_type": "code",
   "execution_count": 1,
   "id": "b23f0a1d",
   "metadata": {},
   "outputs": [],
   "source": [
    "import urllib.request\n",
    "import json"
   ]
  },
  {
   "cell_type": "code",
   "execution_count": 4,
   "id": "fbff310e",
   "metadata": {},
   "outputs": [],
   "source": [
    "request = urllib.request.Request('http://api.open-notify.org/iss-now.json')\n",
    "response = urllib.request.urlopen(request)"
   ]
  },
  {
   "cell_type": "code",
   "execution_count": 5,
   "id": "e7960477",
   "metadata": {},
   "outputs": [
    {
     "data": {
      "text/plain": [
       "http.client.HTTPResponse"
      ]
     },
     "execution_count": 5,
     "metadata": {},
     "output_type": "execute_result"
    }
   ],
   "source": [
    "type(response)"
   ]
  },
  {
   "cell_type": "code",
   "execution_count": 8,
   "id": "c166c821",
   "metadata": {},
   "outputs": [],
   "source": [
    "# turn response to dictionart\n",
    "iss_dict = json.loads(response.read())"
   ]
  },
  {
   "cell_type": "code",
   "execution_count": 9,
   "id": "dcea8a07",
   "metadata": {},
   "outputs": [
    {
     "data": {
      "text/plain": [
       "{'iss_position': {'longitude': '-33.2158', 'latitude': '-50.6608'},\n",
       " 'timestamp': 1669030812,\n",
       " 'message': 'success'}"
      ]
     },
     "execution_count": 9,
     "metadata": {},
     "output_type": "execute_result"
    }
   ],
   "source": [
    "iss_dict"
   ]
  },
  {
   "cell_type": "code",
   "execution_count": 15,
   "id": "e20f54b9",
   "metadata": {},
   "outputs": [
    {
     "name": "stdout",
     "output_type": "stream",
     "text": [
      "-33.2158 -50.6608\n"
     ]
    }
   ],
   "source": [
    "print(iss_dict['iss_position']['longitude'],iss_dict['iss_position']['latitude'])"
   ]
  },
  {
   "cell_type": "code",
   "execution_count": null,
   "id": "b0dfa5c8",
   "metadata": {},
   "outputs": [],
   "source": []
  },
  {
   "cell_type": "code",
   "execution_count": null,
   "id": "d1e3fea8",
   "metadata": {},
   "outputs": [],
   "source": []
  }
 ],
 "metadata": {
  "kernelspec": {
   "display_name": "Python 3 (ipykernel)",
   "language": "python",
   "name": "python3"
  },
  "language_info": {
   "codemirror_mode": {
    "name": "ipython",
    "version": 3
   },
   "file_extension": ".py",
   "mimetype": "text/x-python",
   "name": "python",
   "nbconvert_exporter": "python",
   "pygments_lexer": "ipython3",
   "version": "3.11.0"
  }
 },
 "nbformat": 4,
 "nbformat_minor": 5
}
